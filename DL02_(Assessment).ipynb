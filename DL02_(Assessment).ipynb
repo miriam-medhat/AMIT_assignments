{
  "cells": [
    {
      "cell_type": "markdown",
      "metadata": {
        "id": "_mlNKrzhb66C"
      },
      "source": [
        "# **Importing necessary libraries**"
      ]
    },
    {
      "cell_type": "code",
      "execution_count": null,
      "metadata": {
        "id": "PsXan_Inb32K"
      },
      "outputs": [],
      "source": [
        "import numpy as np  # For numerical computations\n",
        "import pandas as pd  # For data manipulation and analysis\n",
        "from sklearn.datasets import load_breast_cancer  # For loading the breast cancer dataset (preloaded dataset)\n",
        "import seaborn as sns  # For data visualization\n",
        "from sklearn.model_selection import train_test_split  # For splitting data into training and testing sets"
      ]
    },
    {
      "cell_type": "markdown",
      "metadata": {
        "id": "CQWJnBAHb_AK"
      },
      "source": [
        "Suppress warnings for a cleaner output"
      ]
    },
    {
      "cell_type": "code",
      "execution_count": null,
      "metadata": {
        "id": "HOtsOd5ib9i9"
      },
      "outputs": [],
      "source": [
        "import warnings\n",
        "warnings.filterwarnings('ignore')"
      ]
    },
    {
      "cell_type": "markdown",
      "metadata": {
        "id": "kVqCJEQ6crl6"
      },
      "source": [
        "# **Read the data and Convert it to DataFrame**"
      ]
    },
    {
      "cell_type": "code",
      "execution_count": null,
      "metadata": {
        "id": "dPFILQLkcOfY"
      },
      "outputs": [],
      "source": [
        "# Load the breast cancer dataset into a variable\n",
        "data = load_breast_cancer()"
      ]
    },
    {
      "cell_type": "code",
      "execution_count": null,
      "metadata": {
        "colab": {
          "base_uri": "https://localhost:8080/"
        },
        "id": "NzIWg5WBcQPw",
        "outputId": "ce7db252-f55a-47fa-b753-432d2a629cb9"
      },
      "outputs": [
        {
          "data": {
            "text/plain": [
              "dict_keys(['data', 'target', 'frame', 'target_names', 'DESCR', 'feature_names', 'filename', 'data_module'])"
            ]
          },
          "execution_count": 4,
          "metadata": {},
          "output_type": "execute_result"
        }
      ],
      "source": [
        "# Display the keys in the dataset to understand its structure\n",
        "# These keys include metadata, feature names, and the target variable\n",
        "data.keys()"
      ]
    },
    {
      "cell_type": "code",
      "execution_count": null,
      "metadata": {
        "colab": {
          "base_uri": "https://localhost:8080/"
        },
        "id": "V9Y6ct4qcSrA",
        "outputId": "2c08f892-e94f-4731-ed66-cfd620ade6db"
      },
      "outputs": [
        {
          "data": {
            "text/plain": [
              "['.. _breast_cancer_dataset:',\n",
              " '',\n",
              " 'Breast cancer wisconsin (diagnostic) dataset',\n",
              " '--------------------------------------------',\n",
              " '',\n",
              " '**Data Set Characteristics:**',\n",
              " '',\n",
              " ':Number of Instances: 569',\n",
              " '',\n",
              " ':Number of Attributes: 30 numeric, predictive attributes and the class',\n",
              " '',\n",
              " ':Attribute Information:',\n",
              " '    - radius (mean of distances from center to points on the perimeter)',\n",
              " '    - texture (standard deviation of gray-scale values)',\n",
              " '    - perimeter',\n",
              " '    - area',\n",
              " '    - smoothness (local variation in radius lengths)',\n",
              " '    - compactness (perimeter^2 / area - 1.0)',\n",
              " '    - concavity (severity of concave portions of the contour)',\n",
              " '    - concave points (number of concave portions of the contour)',\n",
              " '    - symmetry',\n",
              " '    - fractal dimension (\"coastline approximation\" - 1)',\n",
              " '',\n",
              " '    The mean, standard error, and \"worst\" or largest (mean of the three',\n",
              " '    worst/largest values) of these features were computed for each image,',\n",
              " '    resulting in 30 features.  For instance, field 0 is Mean Radius, field',\n",
              " '    10 is Radius SE, field 20 is Worst Radius.',\n",
              " '',\n",
              " '    - class:',\n",
              " '            - WDBC-Malignant',\n",
              " '            - WDBC-Benign',\n",
              " '',\n",
              " ':Summary Statistics:',\n",
              " '',\n",
              " '===================================== ====== ======',\n",
              " '                                        Min    Max',\n",
              " '===================================== ====== ======',\n",
              " 'radius (mean):                        6.981  28.11',\n",
              " 'texture (mean):                       9.71   39.28',\n",
              " 'perimeter (mean):                     43.79  188.5',\n",
              " 'area (mean):                          143.5  2501.0',\n",
              " 'smoothness (mean):                    0.053  0.163',\n",
              " 'compactness (mean):                   0.019  0.345',\n",
              " 'concavity (mean):                     0.0    0.427',\n",
              " 'concave points (mean):                0.0    0.201',\n",
              " 'symmetry (mean):                      0.106  0.304',\n",
              " 'fractal dimension (mean):             0.05   0.097',\n",
              " 'radius (standard error):              0.112  2.873',\n",
              " 'texture (standard error):             0.36   4.885',\n",
              " 'perimeter (standard error):           0.757  21.98',\n",
              " 'area (standard error):                6.802  542.2',\n",
              " 'smoothness (standard error):          0.002  0.031',\n",
              " 'compactness (standard error):         0.002  0.135',\n",
              " 'concavity (standard error):           0.0    0.396',\n",
              " 'concave points (standard error):      0.0    0.053',\n",
              " 'symmetry (standard error):            0.008  0.079',\n",
              " 'fractal dimension (standard error):   0.001  0.03',\n",
              " 'radius (worst):                       7.93   36.04',\n",
              " 'texture (worst):                      12.02  49.54',\n",
              " 'perimeter (worst):                    50.41  251.2',\n",
              " 'area (worst):                         185.2  4254.0',\n",
              " 'smoothness (worst):                   0.071  0.223',\n",
              " 'compactness (worst):                  0.027  1.058',\n",
              " 'concavity (worst):                    0.0    1.252',\n",
              " 'concave points (worst):               0.0    0.291',\n",
              " 'symmetry (worst):                     0.156  0.664',\n",
              " 'fractal dimension (worst):            0.055  0.208',\n",
              " '===================================== ====== ======',\n",
              " '',\n",
              " ':Missing Attribute Values: None',\n",
              " '',\n",
              " ':Class Distribution: 212 - Malignant, 357 - Benign',\n",
              " '',\n",
              " ':Creator:  Dr. William H. Wolberg, W. Nick Street, Olvi L. Mangasarian',\n",
              " '',\n",
              " ':Donor: Nick Street',\n",
              " '',\n",
              " ':Date: November, 1995',\n",
              " '',\n",
              " 'This is a copy of UCI ML Breast Cancer Wisconsin (Diagnostic) datasets.',\n",
              " 'https://goo.gl/U2Uwz2',\n",
              " '',\n",
              " 'Features are computed from a digitized image of a fine needle',\n",
              " 'aspirate (FNA) of a breast mass.  They describe',\n",
              " 'characteristics of the cell nuclei present in the image.',\n",
              " '',\n",
              " 'Separating plane described above was obtained using',\n",
              " 'Multisurface Method-Tree (MSM-T) [K. P. Bennett, \"Decision Tree',\n",
              " 'Construction Via Linear Programming.\" Proceedings of the 4th',\n",
              " 'Midwest Artificial Intelligence and Cognitive Science Society,',\n",
              " 'pp. 97-101, 1992], a classification method which uses linear',\n",
              " 'programming to construct a decision tree.  Relevant features',\n",
              " 'were selected using an exhaustive search in the space of 1-4',\n",
              " 'features and 1-3 separating planes.',\n",
              " '',\n",
              " 'The actual linear program used to obtain the separating plane',\n",
              " 'in the 3-dimensional space is that described in:',\n",
              " '[K. P. Bennett and O. L. Mangasarian: \"Robust Linear',\n",
              " 'Programming Discrimination of Two Linearly Inseparable Sets\",',\n",
              " 'Optimization Methods and Software 1, 1992, 23-34].',\n",
              " '',\n",
              " 'This database is also available through the UW CS ftp server:',\n",
              " '',\n",
              " 'ftp ftp.cs.wisc.edu',\n",
              " 'cd math-prog/cpo-dataset/machine-learn/WDBC/',\n",
              " '',\n",
              " '.. dropdown:: References',\n",
              " '',\n",
              " '  - W.N. Street, W.H. Wolberg and O.L. Mangasarian. Nuclear feature extraction',\n",
              " '    for breast tumor diagnosis. IS&T/SPIE 1993 International Symposium on',\n",
              " '    Electronic Imaging: Science and Technology, volume 1905, pages 861-870,',\n",
              " '    San Jose, CA, 1993.',\n",
              " '  - O.L. Mangasarian, W.N. Street and W.H. Wolberg. Breast cancer diagnosis and',\n",
              " '    prognosis via linear programming. Operations Research, 43(4), pages 570-577,',\n",
              " '    July-August 1995.',\n",
              " '  - W.H. Wolberg, W.N. Street, and O.L. Mangasarian. Machine learning techniques',\n",
              " '    to diagnose breast cancer from fine-needle aspirates. Cancer Letters 77 (1994)',\n",
              " '    163-171.',\n",
              " '']"
            ]
          },
          "execution_count": 5,
          "metadata": {},
          "output_type": "execute_result"
        }
      ],
      "source": [
        "# View a detailed description of the dataset for better understanding\n",
        "# The description includes information about the features and the dataset itself\n",
        "data.DESCR.split('\\n')"
      ]
    },
    {
      "cell_type": "code",
      "execution_count": null,
      "metadata": {
        "id": "YU5KQAEMcXe9"
      },
      "outputs": [],
      "source": [
        "# Convert the dataset into a Pandas DataFrame\n",
        "# The 'data' key contains the feature values\n",
        "df = pd.DataFrame(data=data['data'], columns=data.feature_names)"
      ]
    },
    {
      "cell_type": "code",
      "execution_count": null,
      "metadata": {
        "id": "4giLZqwWcZ9J"
      },
      "outputs": [],
      "source": [
        "# Add the target column to the DataFrame\n",
        "# The 'target' key represents the labels (malignant/benign)\n",
        "df['target'] = data['target']"
      ]
    },
    {
      "cell_type": "markdown",
      "metadata": {
        "id": "DshHBcm5ck-i"
      },
      "source": [
        "> `df['target']` = `data['target']`: Adds the target variable to the DataFrame, enabling analysis of features alongside their corresponding labels."
      ]
    },
    {
      "cell_type": "code",
      "execution_count": null,
      "metadata": {
        "colab": {
          "base_uri": "https://localhost:8080/",
          "height": 290
        },
        "id": "rq3kUVYwcdf3",
        "outputId": "bd8a8bca-60a4-4e6f-f58a-85fe6e258446"
      },
      "outputs": [
        {
          "data": {
            "application/vnd.google.colaboratory.intrinsic+json": {
              "type": "dataframe",
              "variable_name": "df"
            },
            "text/html": [
              "\n",
              "  <div id=\"df-502e625c-3c30-4cb8-afac-309fe757c9cc\" class=\"colab-df-container\">\n",
              "    <div>\n",
              "<style scoped>\n",
              "    .dataframe tbody tr th:only-of-type {\n",
              "        vertical-align: middle;\n",
              "    }\n",
              "\n",
              "    .dataframe tbody tr th {\n",
              "        vertical-align: top;\n",
              "    }\n",
              "\n",
              "    .dataframe thead th {\n",
              "        text-align: right;\n",
              "    }\n",
              "</style>\n",
              "<table border=\"1\" class=\"dataframe\">\n",
              "  <thead>\n",
              "    <tr style=\"text-align: right;\">\n",
              "      <th></th>\n",
              "      <th>mean radius</th>\n",
              "      <th>mean texture</th>\n",
              "      <th>mean perimeter</th>\n",
              "      <th>mean area</th>\n",
              "      <th>mean smoothness</th>\n",
              "      <th>mean compactness</th>\n",
              "      <th>mean concavity</th>\n",
              "      <th>mean concave points</th>\n",
              "      <th>mean symmetry</th>\n",
              "      <th>mean fractal dimension</th>\n",
              "      <th>...</th>\n",
              "      <th>worst texture</th>\n",
              "      <th>worst perimeter</th>\n",
              "      <th>worst area</th>\n",
              "      <th>worst smoothness</th>\n",
              "      <th>worst compactness</th>\n",
              "      <th>worst concavity</th>\n",
              "      <th>worst concave points</th>\n",
              "      <th>worst symmetry</th>\n",
              "      <th>worst fractal dimension</th>\n",
              "      <th>target</th>\n",
              "    </tr>\n",
              "  </thead>\n",
              "  <tbody>\n",
              "    <tr>\n",
              "      <th>0</th>\n",
              "      <td>17.99</td>\n",
              "      <td>10.38</td>\n",
              "      <td>122.80</td>\n",
              "      <td>1001.0</td>\n",
              "      <td>0.11840</td>\n",
              "      <td>0.27760</td>\n",
              "      <td>0.3001</td>\n",
              "      <td>0.14710</td>\n",
              "      <td>0.2419</td>\n",
              "      <td>0.07871</td>\n",
              "      <td>...</td>\n",
              "      <td>17.33</td>\n",
              "      <td>184.60</td>\n",
              "      <td>2019.0</td>\n",
              "      <td>0.1622</td>\n",
              "      <td>0.6656</td>\n",
              "      <td>0.7119</td>\n",
              "      <td>0.2654</td>\n",
              "      <td>0.4601</td>\n",
              "      <td>0.11890</td>\n",
              "      <td>0</td>\n",
              "    </tr>\n",
              "    <tr>\n",
              "      <th>1</th>\n",
              "      <td>20.57</td>\n",
              "      <td>17.77</td>\n",
              "      <td>132.90</td>\n",
              "      <td>1326.0</td>\n",
              "      <td>0.08474</td>\n",
              "      <td>0.07864</td>\n",
              "      <td>0.0869</td>\n",
              "      <td>0.07017</td>\n",
              "      <td>0.1812</td>\n",
              "      <td>0.05667</td>\n",
              "      <td>...</td>\n",
              "      <td>23.41</td>\n",
              "      <td>158.80</td>\n",
              "      <td>1956.0</td>\n",
              "      <td>0.1238</td>\n",
              "      <td>0.1866</td>\n",
              "      <td>0.2416</td>\n",
              "      <td>0.1860</td>\n",
              "      <td>0.2750</td>\n",
              "      <td>0.08902</td>\n",
              "      <td>0</td>\n",
              "    </tr>\n",
              "    <tr>\n",
              "      <th>2</th>\n",
              "      <td>19.69</td>\n",
              "      <td>21.25</td>\n",
              "      <td>130.00</td>\n",
              "      <td>1203.0</td>\n",
              "      <td>0.10960</td>\n",
              "      <td>0.15990</td>\n",
              "      <td>0.1974</td>\n",
              "      <td>0.12790</td>\n",
              "      <td>0.2069</td>\n",
              "      <td>0.05999</td>\n",
              "      <td>...</td>\n",
              "      <td>25.53</td>\n",
              "      <td>152.50</td>\n",
              "      <td>1709.0</td>\n",
              "      <td>0.1444</td>\n",
              "      <td>0.4245</td>\n",
              "      <td>0.4504</td>\n",
              "      <td>0.2430</td>\n",
              "      <td>0.3613</td>\n",
              "      <td>0.08758</td>\n",
              "      <td>0</td>\n",
              "    </tr>\n",
              "    <tr>\n",
              "      <th>3</th>\n",
              "      <td>11.42</td>\n",
              "      <td>20.38</td>\n",
              "      <td>77.58</td>\n",
              "      <td>386.1</td>\n",
              "      <td>0.14250</td>\n",
              "      <td>0.28390</td>\n",
              "      <td>0.2414</td>\n",
              "      <td>0.10520</td>\n",
              "      <td>0.2597</td>\n",
              "      <td>0.09744</td>\n",
              "      <td>...</td>\n",
              "      <td>26.50</td>\n",
              "      <td>98.87</td>\n",
              "      <td>567.7</td>\n",
              "      <td>0.2098</td>\n",
              "      <td>0.8663</td>\n",
              "      <td>0.6869</td>\n",
              "      <td>0.2575</td>\n",
              "      <td>0.6638</td>\n",
              "      <td>0.17300</td>\n",
              "      <td>0</td>\n",
              "    </tr>\n",
              "    <tr>\n",
              "      <th>4</th>\n",
              "      <td>20.29</td>\n",
              "      <td>14.34</td>\n",
              "      <td>135.10</td>\n",
              "      <td>1297.0</td>\n",
              "      <td>0.10030</td>\n",
              "      <td>0.13280</td>\n",
              "      <td>0.1980</td>\n",
              "      <td>0.10430</td>\n",
              "      <td>0.1809</td>\n",
              "      <td>0.05883</td>\n",
              "      <td>...</td>\n",
              "      <td>16.67</td>\n",
              "      <td>152.20</td>\n",
              "      <td>1575.0</td>\n",
              "      <td>0.1374</td>\n",
              "      <td>0.2050</td>\n",
              "      <td>0.4000</td>\n",
              "      <td>0.1625</td>\n",
              "      <td>0.2364</td>\n",
              "      <td>0.07678</td>\n",
              "      <td>0</td>\n",
              "    </tr>\n",
              "  </tbody>\n",
              "</table>\n",
              "<p>5 rows × 31 columns</p>\n",
              "</div>\n",
              "    <div class=\"colab-df-buttons\">\n",
              "\n",
              "  <div class=\"colab-df-container\">\n",
              "    <button class=\"colab-df-convert\" onclick=\"convertToInteractive('df-502e625c-3c30-4cb8-afac-309fe757c9cc')\"\n",
              "            title=\"Convert this dataframe to an interactive table.\"\n",
              "            style=\"display:none;\">\n",
              "\n",
              "  <svg xmlns=\"http://www.w3.org/2000/svg\" height=\"24px\" viewBox=\"0 -960 960 960\">\n",
              "    <path d=\"M120-120v-720h720v720H120Zm60-500h600v-160H180v160Zm220 220h160v-160H400v160Zm0 220h160v-160H400v160ZM180-400h160v-160H180v160Zm440 0h160v-160H620v160ZM180-180h160v-160H180v160Zm440 0h160v-160H620v160Z\"/>\n",
              "  </svg>\n",
              "    </button>\n",
              "\n",
              "  <style>\n",
              "    .colab-df-container {\n",
              "      display:flex;\n",
              "      gap: 12px;\n",
              "    }\n",
              "\n",
              "    .colab-df-convert {\n",
              "      background-color: #E8F0FE;\n",
              "      border: none;\n",
              "      border-radius: 50%;\n",
              "      cursor: pointer;\n",
              "      display: none;\n",
              "      fill: #1967D2;\n",
              "      height: 32px;\n",
              "      padding: 0 0 0 0;\n",
              "      width: 32px;\n",
              "    }\n",
              "\n",
              "    .colab-df-convert:hover {\n",
              "      background-color: #E2EBFA;\n",
              "      box-shadow: 0px 1px 2px rgba(60, 64, 67, 0.3), 0px 1px 3px 1px rgba(60, 64, 67, 0.15);\n",
              "      fill: #174EA6;\n",
              "    }\n",
              "\n",
              "    .colab-df-buttons div {\n",
              "      margin-bottom: 4px;\n",
              "    }\n",
              "\n",
              "    [theme=dark] .colab-df-convert {\n",
              "      background-color: #3B4455;\n",
              "      fill: #D2E3FC;\n",
              "    }\n",
              "\n",
              "    [theme=dark] .colab-df-convert:hover {\n",
              "      background-color: #434B5C;\n",
              "      box-shadow: 0px 1px 3px 1px rgba(0, 0, 0, 0.15);\n",
              "      filter: drop-shadow(0px 1px 2px rgba(0, 0, 0, 0.3));\n",
              "      fill: #FFFFFF;\n",
              "    }\n",
              "  </style>\n",
              "\n",
              "    <script>\n",
              "      const buttonEl =\n",
              "        document.querySelector('#df-502e625c-3c30-4cb8-afac-309fe757c9cc button.colab-df-convert');\n",
              "      buttonEl.style.display =\n",
              "        google.colab.kernel.accessAllowed ? 'block' : 'none';\n",
              "\n",
              "      async function convertToInteractive(key) {\n",
              "        const element = document.querySelector('#df-502e625c-3c30-4cb8-afac-309fe757c9cc');\n",
              "        const dataTable =\n",
              "          await google.colab.kernel.invokeFunction('convertToInteractive',\n",
              "                                                    [key], {});\n",
              "        if (!dataTable) return;\n",
              "\n",
              "        const docLinkHtml = 'Like what you see? Visit the ' +\n",
              "          '<a target=\"_blank\" href=https://colab.research.google.com/notebooks/data_table.ipynb>data table notebook</a>'\n",
              "          + ' to learn more about interactive tables.';\n",
              "        element.innerHTML = '';\n",
              "        dataTable['output_type'] = 'display_data';\n",
              "        await google.colab.output.renderOutput(dataTable, element);\n",
              "        const docLink = document.createElement('div');\n",
              "        docLink.innerHTML = docLinkHtml;\n",
              "        element.appendChild(docLink);\n",
              "      }\n",
              "    </script>\n",
              "  </div>\n",
              "\n",
              "\n",
              "<div id=\"df-8a783b18-325d-4f2b-8786-896b2f0f4aad\">\n",
              "  <button class=\"colab-df-quickchart\" onclick=\"quickchart('df-8a783b18-325d-4f2b-8786-896b2f0f4aad')\"\n",
              "            title=\"Suggest charts\"\n",
              "            style=\"display:none;\">\n",
              "\n",
              "<svg xmlns=\"http://www.w3.org/2000/svg\" height=\"24px\"viewBox=\"0 0 24 24\"\n",
              "     width=\"24px\">\n",
              "    <g>\n",
              "        <path d=\"M19 3H5c-1.1 0-2 .9-2 2v14c0 1.1.9 2 2 2h14c1.1 0 2-.9 2-2V5c0-1.1-.9-2-2-2zM9 17H7v-7h2v7zm4 0h-2V7h2v10zm4 0h-2v-4h2v4z\"/>\n",
              "    </g>\n",
              "</svg>\n",
              "  </button>\n",
              "\n",
              "<style>\n",
              "  .colab-df-quickchart {\n",
              "      --bg-color: #E8F0FE;\n",
              "      --fill-color: #1967D2;\n",
              "      --hover-bg-color: #E2EBFA;\n",
              "      --hover-fill-color: #174EA6;\n",
              "      --disabled-fill-color: #AAA;\n",
              "      --disabled-bg-color: #DDD;\n",
              "  }\n",
              "\n",
              "  [theme=dark] .colab-df-quickchart {\n",
              "      --bg-color: #3B4455;\n",
              "      --fill-color: #D2E3FC;\n",
              "      --hover-bg-color: #434B5C;\n",
              "      --hover-fill-color: #FFFFFF;\n",
              "      --disabled-bg-color: #3B4455;\n",
              "      --disabled-fill-color: #666;\n",
              "  }\n",
              "\n",
              "  .colab-df-quickchart {\n",
              "    background-color: var(--bg-color);\n",
              "    border: none;\n",
              "    border-radius: 50%;\n",
              "    cursor: pointer;\n",
              "    display: none;\n",
              "    fill: var(--fill-color);\n",
              "    height: 32px;\n",
              "    padding: 0;\n",
              "    width: 32px;\n",
              "  }\n",
              "\n",
              "  .colab-df-quickchart:hover {\n",
              "    background-color: var(--hover-bg-color);\n",
              "    box-shadow: 0 1px 2px rgba(60, 64, 67, 0.3), 0 1px 3px 1px rgba(60, 64, 67, 0.15);\n",
              "    fill: var(--button-hover-fill-color);\n",
              "  }\n",
              "\n",
              "  .colab-df-quickchart-complete:disabled,\n",
              "  .colab-df-quickchart-complete:disabled:hover {\n",
              "    background-color: var(--disabled-bg-color);\n",
              "    fill: var(--disabled-fill-color);\n",
              "    box-shadow: none;\n",
              "  }\n",
              "\n",
              "  .colab-df-spinner {\n",
              "    border: 2px solid var(--fill-color);\n",
              "    border-color: transparent;\n",
              "    border-bottom-color: var(--fill-color);\n",
              "    animation:\n",
              "      spin 1s steps(1) infinite;\n",
              "  }\n",
              "\n",
              "  @keyframes spin {\n",
              "    0% {\n",
              "      border-color: transparent;\n",
              "      border-bottom-color: var(--fill-color);\n",
              "      border-left-color: var(--fill-color);\n",
              "    }\n",
              "    20% {\n",
              "      border-color: transparent;\n",
              "      border-left-color: var(--fill-color);\n",
              "      border-top-color: var(--fill-color);\n",
              "    }\n",
              "    30% {\n",
              "      border-color: transparent;\n",
              "      border-left-color: var(--fill-color);\n",
              "      border-top-color: var(--fill-color);\n",
              "      border-right-color: var(--fill-color);\n",
              "    }\n",
              "    40% {\n",
              "      border-color: transparent;\n",
              "      border-right-color: var(--fill-color);\n",
              "      border-top-color: var(--fill-color);\n",
              "    }\n",
              "    60% {\n",
              "      border-color: transparent;\n",
              "      border-right-color: var(--fill-color);\n",
              "    }\n",
              "    80% {\n",
              "      border-color: transparent;\n",
              "      border-right-color: var(--fill-color);\n",
              "      border-bottom-color: var(--fill-color);\n",
              "    }\n",
              "    90% {\n",
              "      border-color: transparent;\n",
              "      border-bottom-color: var(--fill-color);\n",
              "    }\n",
              "  }\n",
              "</style>\n",
              "\n",
              "  <script>\n",
              "    async function quickchart(key) {\n",
              "      const quickchartButtonEl =\n",
              "        document.querySelector('#' + key + ' button');\n",
              "      quickchartButtonEl.disabled = true;  // To prevent multiple clicks.\n",
              "      quickchartButtonEl.classList.add('colab-df-spinner');\n",
              "      try {\n",
              "        const charts = await google.colab.kernel.invokeFunction(\n",
              "            'suggestCharts', [key], {});\n",
              "      } catch (error) {\n",
              "        console.error('Error during call to suggestCharts:', error);\n",
              "      }\n",
              "      quickchartButtonEl.classList.remove('colab-df-spinner');\n",
              "      quickchartButtonEl.classList.add('colab-df-quickchart-complete');\n",
              "    }\n",
              "    (() => {\n",
              "      let quickchartButtonEl =\n",
              "        document.querySelector('#df-8a783b18-325d-4f2b-8786-896b2f0f4aad button');\n",
              "      quickchartButtonEl.style.display =\n",
              "        google.colab.kernel.accessAllowed ? 'block' : 'none';\n",
              "    })();\n",
              "  </script>\n",
              "</div>\n",
              "\n",
              "    </div>\n",
              "  </div>\n"
            ],
            "text/plain": [
              "   mean radius  mean texture  mean perimeter  mean area  mean smoothness  \\\n",
              "0        17.99         10.38          122.80     1001.0          0.11840   \n",
              "1        20.57         17.77          132.90     1326.0          0.08474   \n",
              "2        19.69         21.25          130.00     1203.0          0.10960   \n",
              "3        11.42         20.38           77.58      386.1          0.14250   \n",
              "4        20.29         14.34          135.10     1297.0          0.10030   \n",
              "\n",
              "   mean compactness  mean concavity  mean concave points  mean symmetry  \\\n",
              "0           0.27760          0.3001              0.14710         0.2419   \n",
              "1           0.07864          0.0869              0.07017         0.1812   \n",
              "2           0.15990          0.1974              0.12790         0.2069   \n",
              "3           0.28390          0.2414              0.10520         0.2597   \n",
              "4           0.13280          0.1980              0.10430         0.1809   \n",
              "\n",
              "   mean fractal dimension  ...  worst texture  worst perimeter  worst area  \\\n",
              "0                 0.07871  ...          17.33           184.60      2019.0   \n",
              "1                 0.05667  ...          23.41           158.80      1956.0   \n",
              "2                 0.05999  ...          25.53           152.50      1709.0   \n",
              "3                 0.09744  ...          26.50            98.87       567.7   \n",
              "4                 0.05883  ...          16.67           152.20      1575.0   \n",
              "\n",
              "   worst smoothness  worst compactness  worst concavity  worst concave points  \\\n",
              "0            0.1622             0.6656           0.7119                0.2654   \n",
              "1            0.1238             0.1866           0.2416                0.1860   \n",
              "2            0.1444             0.4245           0.4504                0.2430   \n",
              "3            0.2098             0.8663           0.6869                0.2575   \n",
              "4            0.1374             0.2050           0.4000                0.1625   \n",
              "\n",
              "   worst symmetry  worst fractal dimension  target  \n",
              "0          0.4601                  0.11890       0  \n",
              "1          0.2750                  0.08902       0  \n",
              "2          0.3613                  0.08758       0  \n",
              "3          0.6638                  0.17300       0  \n",
              "4          0.2364                  0.07678       0  \n",
              "\n",
              "[5 rows x 31 columns]"
            ]
          },
          "execution_count": 8,
          "metadata": {},
          "output_type": "execute_result"
        }
      ],
      "source": [
        "# Display the first five rows of the DataFrame to confirm the structure\n",
        "df.head()"
      ]
    },
    {
      "cell_type": "code",
      "execution_count": null,
      "metadata": {
        "colab": {
          "base_uri": "https://localhost:8080/"
        },
        "id": "FEJDaRdBceiG",
        "outputId": "408390eb-14a8-466e-b7c8-175259c3904a"
      },
      "outputs": [
        {
          "name": "stdout",
          "output_type": "stream",
          "text": [
            "<class 'pandas.core.frame.DataFrame'>\n",
            "RangeIndex: 569 entries, 0 to 568\n",
            "Data columns (total 31 columns):\n",
            " #   Column                   Non-Null Count  Dtype  \n",
            "---  ------                   --------------  -----  \n",
            " 0   mean radius              569 non-null    float64\n",
            " 1   mean texture             569 non-null    float64\n",
            " 2   mean perimeter           569 non-null    float64\n",
            " 3   mean area                569 non-null    float64\n",
            " 4   mean smoothness          569 non-null    float64\n",
            " 5   mean compactness         569 non-null    float64\n",
            " 6   mean concavity           569 non-null    float64\n",
            " 7   mean concave points      569 non-null    float64\n",
            " 8   mean symmetry            569 non-null    float64\n",
            " 9   mean fractal dimension   569 non-null    float64\n",
            " 10  radius error             569 non-null    float64\n",
            " 11  texture error            569 non-null    float64\n",
            " 12  perimeter error          569 non-null    float64\n",
            " 13  area error               569 non-null    float64\n",
            " 14  smoothness error         569 non-null    float64\n",
            " 15  compactness error        569 non-null    float64\n",
            " 16  concavity error          569 non-null    float64\n",
            " 17  concave points error     569 non-null    float64\n",
            " 18  symmetry error           569 non-null    float64\n",
            " 19  fractal dimension error  569 non-null    float64\n",
            " 20  worst radius             569 non-null    float64\n",
            " 21  worst texture            569 non-null    float64\n",
            " 22  worst perimeter          569 non-null    float64\n",
            " 23  worst area               569 non-null    float64\n",
            " 24  worst smoothness         569 non-null    float64\n",
            " 25  worst compactness        569 non-null    float64\n",
            " 26  worst concavity          569 non-null    float64\n",
            " 27  worst concave points     569 non-null    float64\n",
            " 28  worst symmetry           569 non-null    float64\n",
            " 29  worst fractal dimension  569 non-null    float64\n",
            " 30  target                   569 non-null    int64  \n",
            "dtypes: float64(30), int64(1)\n",
            "memory usage: 137.9 KB\n"
          ]
        }
      ],
      "source": [
        "# Get a concise summary of the DataFrame\n",
        "# This includes column names, data types, and non-null counts\n",
        "df.info()"
      ]
    },
    {
      "cell_type": "markdown",
      "metadata": {
        "id": "KN_KShz4c2Rf"
      },
      "source": [
        "# **Check Null**"
      ]
    },
    {
      "cell_type": "code",
      "execution_count": null,
      "metadata": {
        "colab": {
          "base_uri": "https://localhost:8080/",
          "height": 1000
        },
        "id": "DHQtKAwoczgk",
        "outputId": "d17c6b01-4218-410a-e168-f814e4abecf3"
      },
      "outputs": [
        {
          "data": {
            "text/html": [
              "<div>\n",
              "<style scoped>\n",
              "    .dataframe tbody tr th:only-of-type {\n",
              "        vertical-align: middle;\n",
              "    }\n",
              "\n",
              "    .dataframe tbody tr th {\n",
              "        vertical-align: top;\n",
              "    }\n",
              "\n",
              "    .dataframe thead th {\n",
              "        text-align: right;\n",
              "    }\n",
              "</style>\n",
              "<table border=\"1\" class=\"dataframe\">\n",
              "  <thead>\n",
              "    <tr style=\"text-align: right;\">\n",
              "      <th></th>\n",
              "      <th>0</th>\n",
              "    </tr>\n",
              "  </thead>\n",
              "  <tbody>\n",
              "    <tr>\n",
              "      <th>mean radius</th>\n",
              "      <td>0</td>\n",
              "    </tr>\n",
              "    <tr>\n",
              "      <th>mean texture</th>\n",
              "      <td>0</td>\n",
              "    </tr>\n",
              "    <tr>\n",
              "      <th>mean perimeter</th>\n",
              "      <td>0</td>\n",
              "    </tr>\n",
              "    <tr>\n",
              "      <th>mean area</th>\n",
              "      <td>0</td>\n",
              "    </tr>\n",
              "    <tr>\n",
              "      <th>mean smoothness</th>\n",
              "      <td>0</td>\n",
              "    </tr>\n",
              "    <tr>\n",
              "      <th>mean compactness</th>\n",
              "      <td>0</td>\n",
              "    </tr>\n",
              "    <tr>\n",
              "      <th>mean concavity</th>\n",
              "      <td>0</td>\n",
              "    </tr>\n",
              "    <tr>\n",
              "      <th>mean concave points</th>\n",
              "      <td>0</td>\n",
              "    </tr>\n",
              "    <tr>\n",
              "      <th>mean symmetry</th>\n",
              "      <td>0</td>\n",
              "    </tr>\n",
              "    <tr>\n",
              "      <th>mean fractal dimension</th>\n",
              "      <td>0</td>\n",
              "    </tr>\n",
              "    <tr>\n",
              "      <th>radius error</th>\n",
              "      <td>0</td>\n",
              "    </tr>\n",
              "    <tr>\n",
              "      <th>texture error</th>\n",
              "      <td>0</td>\n",
              "    </tr>\n",
              "    <tr>\n",
              "      <th>perimeter error</th>\n",
              "      <td>0</td>\n",
              "    </tr>\n",
              "    <tr>\n",
              "      <th>area error</th>\n",
              "      <td>0</td>\n",
              "    </tr>\n",
              "    <tr>\n",
              "      <th>smoothness error</th>\n",
              "      <td>0</td>\n",
              "    </tr>\n",
              "    <tr>\n",
              "      <th>compactness error</th>\n",
              "      <td>0</td>\n",
              "    </tr>\n",
              "    <tr>\n",
              "      <th>concavity error</th>\n",
              "      <td>0</td>\n",
              "    </tr>\n",
              "    <tr>\n",
              "      <th>concave points error</th>\n",
              "      <td>0</td>\n",
              "    </tr>\n",
              "    <tr>\n",
              "      <th>symmetry error</th>\n",
              "      <td>0</td>\n",
              "    </tr>\n",
              "    <tr>\n",
              "      <th>fractal dimension error</th>\n",
              "      <td>0</td>\n",
              "    </tr>\n",
              "    <tr>\n",
              "      <th>worst radius</th>\n",
              "      <td>0</td>\n",
              "    </tr>\n",
              "    <tr>\n",
              "      <th>worst texture</th>\n",
              "      <td>0</td>\n",
              "    </tr>\n",
              "    <tr>\n",
              "      <th>worst perimeter</th>\n",
              "      <td>0</td>\n",
              "    </tr>\n",
              "    <tr>\n",
              "      <th>worst area</th>\n",
              "      <td>0</td>\n",
              "    </tr>\n",
              "    <tr>\n",
              "      <th>worst smoothness</th>\n",
              "      <td>0</td>\n",
              "    </tr>\n",
              "    <tr>\n",
              "      <th>worst compactness</th>\n",
              "      <td>0</td>\n",
              "    </tr>\n",
              "    <tr>\n",
              "      <th>worst concavity</th>\n",
              "      <td>0</td>\n",
              "    </tr>\n",
              "    <tr>\n",
              "      <th>worst concave points</th>\n",
              "      <td>0</td>\n",
              "    </tr>\n",
              "    <tr>\n",
              "      <th>worst symmetry</th>\n",
              "      <td>0</td>\n",
              "    </tr>\n",
              "    <tr>\n",
              "      <th>worst fractal dimension</th>\n",
              "      <td>0</td>\n",
              "    </tr>\n",
              "    <tr>\n",
              "      <th>target</th>\n",
              "      <td>0</td>\n",
              "    </tr>\n",
              "  </tbody>\n",
              "</table>\n",
              "</div><br><label><b>dtype:</b> int64</label>"
            ],
            "text/plain": [
              "mean radius                0\n",
              "mean texture               0\n",
              "mean perimeter             0\n",
              "mean area                  0\n",
              "mean smoothness            0\n",
              "mean compactness           0\n",
              "mean concavity             0\n",
              "mean concave points        0\n",
              "mean symmetry              0\n",
              "mean fractal dimension     0\n",
              "radius error               0\n",
              "texture error              0\n",
              "perimeter error            0\n",
              "area error                 0\n",
              "smoothness error           0\n",
              "compactness error          0\n",
              "concavity error            0\n",
              "concave points error       0\n",
              "symmetry error             0\n",
              "fractal dimension error    0\n",
              "worst radius               0\n",
              "worst texture              0\n",
              "worst perimeter            0\n",
              "worst area                 0\n",
              "worst smoothness           0\n",
              "worst compactness          0\n",
              "worst concavity            0\n",
              "worst concave points       0\n",
              "worst symmetry             0\n",
              "worst fractal dimension    0\n",
              "target                     0\n",
              "dtype: int64"
            ]
          },
          "execution_count": 10,
          "metadata": {},
          "output_type": "execute_result"
        }
      ],
      "source": [
        "# Check for missing values in the DataFrame\n",
        "# .isnull() identifies NaN (missing) values, and .sum() aggregates the count of missing values per column\n",
        "df.isnull().sum()"
      ]
    },
    {
      "cell_type": "markdown",
      "metadata": {
        "id": "v-I-wznHdB-l"
      },
      "source": [
        "# **Split Data (X,Y)**"
      ]
    },
    {
      "cell_type": "code",
      "execution_count": null,
      "metadata": {
        "id": "UagCELsadEfG"
      },
      "outputs": [],
      "source": [
        "# Separate the features (X) and the target variable (y)\n",
        "# X contains all columns except the 'target' column\n",
        "x = df.drop(['target'], axis=1)\n",
        "\n",
        "# y contains only the 'target' column, representing labels\n",
        "y = df['target']"
      ]
    },
    {
      "cell_type": "markdown",
      "metadata": {
        "id": "3fvVv5g9dWaU"
      },
      "source": [
        "# **Check Balance**"
      ]
    },
    {
      "cell_type": "code",
      "execution_count": null,
      "metadata": {
        "colab": {
          "base_uri": "https://localhost:8080/",
          "height": 178
        },
        "id": "vFfRkB7sdaAR",
        "outputId": "35377192-3fdb-4034-d097-1d91e36485a8"
      },
      "outputs": [
        {
          "data": {
            "text/html": [
              "<div>\n",
              "<style scoped>\n",
              "    .dataframe tbody tr th:only-of-type {\n",
              "        vertical-align: middle;\n",
              "    }\n",
              "\n",
              "    .dataframe tbody tr th {\n",
              "        vertical-align: top;\n",
              "    }\n",
              "\n",
              "    .dataframe thead th {\n",
              "        text-align: right;\n",
              "    }\n",
              "</style>\n",
              "<table border=\"1\" class=\"dataframe\">\n",
              "  <thead>\n",
              "    <tr style=\"text-align: right;\">\n",
              "      <th></th>\n",
              "      <th>count</th>\n",
              "    </tr>\n",
              "    <tr>\n",
              "      <th>target</th>\n",
              "      <th></th>\n",
              "    </tr>\n",
              "  </thead>\n",
              "  <tbody>\n",
              "    <tr>\n",
              "      <th>1</th>\n",
              "      <td>357</td>\n",
              "    </tr>\n",
              "    <tr>\n",
              "      <th>0</th>\n",
              "      <td>212</td>\n",
              "    </tr>\n",
              "  </tbody>\n",
              "</table>\n",
              "</div><br><label><b>dtype:</b> int64</label>"
            ],
            "text/plain": [
              "target\n",
              "1    357\n",
              "0    212\n",
              "Name: count, dtype: int64"
            ]
          },
          "execution_count": 12,
          "metadata": {},
          "output_type": "execute_result"
        }
      ],
      "source": [
        "# Count the occurrences of each class in the target variable\n",
        "# This gives an overview of whether the dataset is balanced or imbalanced\n",
        "df['target'].value_counts()"
      ]
    },
    {
      "cell_type": "code",
      "execution_count": null,
      "metadata": {
        "colab": {
          "base_uri": "https://localhost:8080/",
          "height": 466
        },
        "id": "AEIgx1jFdXYk",
        "outputId": "caf3c879-6767-4d81-f77e-99129b86f59a"
      },
      "outputs": [
        {
          "data": {
            "text/plain": [
              "<Axes: xlabel='target', ylabel='count'>"
            ]
          },
          "execution_count": 13,
          "metadata": {},
          "output_type": "execute_result"
        },
        {
          "data": {
            "image/png": "[encoded data removed]",
            "text/plain": [
              "<Figure size 640x480 with 1 Axes>"
            ]
          },
          "metadata": {},
          "output_type": "display_data"
        }
      ],
      "source": [
        "# Visualize the class distribution using a count plot\n",
        "# Provides a graphical representation of the balance between classes\n",
        "sns.countplot(x='target', data=df)"
      ]
    },
    {
      "cell_type": "markdown",
      "metadata": {
        "id": "gHv9yq2LdnMA"
      },
      "source": [
        "# **Handle Data if UN-Balanced**"
      ]
    },
    {
      "cell_type": "code",
      "execution_count": null,
      "metadata": {
        "id": "zd43fE1YdrOZ"
      },
      "outputs": [],
      "source": [
        "# Import the SMOTE (Synthetic Minority Oversampling Technique) for balancing the dataset\n",
        "from imblearn.over_sampling import SMOTE"
      ]
    },
    {
      "cell_type": "code",
      "execution_count": null,
      "metadata": {
        "id": "sjrBec3sdr-2"
      },
      "outputs": [],
      "source": [
        "# Initialize SMOTE with specific parameters\n",
        "# 'sampling_strategy' determines the percentage of resampling for the minority class\n",
        "# 'k_neighbors' specifies the number of nearest neighbors used to generate synthetic samples\n",
        "smote = SMOTE(sampling_strategy='minority', k_neighbors=5)"
      ]
    },
    {
      "cell_type": "code",
      "execution_count": null,
      "metadata": {
        "id": "-xeOzP1qdo2I"
      },
      "outputs": [],
      "source": [
        "x_resampled, y_resampled = smote.fit_resample(x, y)"
      ]
    },
    {
      "cell_type": "markdown",
      "metadata": {
        "id": "qmkcJ36Gd-i4"
      },
      "source": [
        "# **Split Data (Train, Test)**"
      ]
    },
    {
      "cell_type": "code",
      "execution_count": null,
      "metadata": {
        "id": "dwSbyPB3d-QW"
      },
      "outputs": [],
      "source": [
        "# Split the resampled data into training and testing sets\n",
        "# 'test_size=0.2' allocates 20% of the data for testing and 80% for training\n",
        "# 'random_state=42' ensures reproducibility by controlling the random shuffling\n",
        "x_train, x_test, y_train, y_test = train_test_split(x_resampled, y_resampled, test_size=0.2, random_state=42)"
      ]
    },
    {
      "cell_type": "markdown",
      "metadata": {
        "id": "mWKQixwNeHwB"
      },
      "source": [
        "# **Scaling Data**"
      ]
    },
    {
      "cell_type": "code",
      "execution_count": null,
      "metadata": {
        "id": "RgGjwRVAeKrY"
      },
      "outputs": [],
      "source": [
        "# Import StandardScaler for feature scaling\n",
        "from sklearn.preprocessing import StandardScaler"
      ]
    },
    {
      "cell_type": "code",
      "execution_count": null,
      "metadata": {
        "id": "sK8GVcSoeIqp"
      },
      "outputs": [],
      "source": [
        "# Initialize the StandardScaler\n",
        "scaler = StandardScaler()\n",
        "\n",
        "# Fit the scaler on the training data and transform it\n",
        "# This standardizes the features to have a mean of 0 and a standard deviation of 1\n",
        "x_train = scaler.fit_transform(x_train)\n",
        "\n",
        "# Transform the test data using the same scaler\n",
        "# This ensures the test data is scaled based on the training data statistics\n",
        "x_test = scaler.transform(x_test)"
      ]
    },
    {
      "cell_type": "markdown",
      "metadata": {
        "id": "T9nGl_Lhekm_"
      },
      "source": [
        "# **Build Perceptron from Scratch**"
      ]
    },
    {
      "cell_type": "markdown",
      "metadata": {
        "id": "Gz_PsUvlel-N"
      },
      "source": [
        "## Activation Function"
      ]
    },
    {
      "cell_type": "code",
      "execution_count": null,
      "metadata": {
        "id": "jVMpPfgNelrM"
      },
      "outputs": [],
      "source": [
        "def sigmoid(X):\n",
        "    return 1 / (1 + np.exp(-X))"
      ]
    },
    {
      "cell_type": "markdown",
      "metadata": {
        "id": "xEcckpoEqyim"
      },
      "source": [
        "![image.png](data:image/png;base64,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)"
      ]
    },
    {
      "cell_type": "markdown",
      "metadata": {
        "id": "oopG70OMeq6V"
      },
      "source": [
        "> The sigmoid function is used to map linear predictions into probabilities between 0 and 1.\n",
        "> This helps in binary classification by converting the output into a range interpretable as probabilities.\n"
      ]
    },
    {
      "cell_type": "markdown",
      "metadata": {
        "id": "VlPci8Qsew4o"
      },
      "source": [
        "## Prepare Perceptron"
      ]
    },
    {
      "cell_type": "code",
      "execution_count": null,
      "metadata": {
        "id": "w6dpuG80erha"
      },
      "outputs": [],
      "source": [
        "def perceptron(X, weights, bais):\n",
        "    # Compute the linear prediction using weights and bias\n",
        "    linear_prediction = np.dot(X, weights) + bais\n",
        "\n",
        "    # Apply the sigmoid activation function\n",
        "    y_pred = sigmoid(linear_prediction)\n",
        "\n",
        "    # Convert probabilities into binary class predictions\n",
        "    y_p = [1 if y >= 0.5 else 0 for y in y_pred]\n",
        "\n",
        "    return y_p"
      ]
    },
    {
      "cell_type": "markdown",
      "metadata": {
        "id": "jt2In1m1e0E-"
      },
      "source": [
        "**Implements the perceptron algorithm for binary classification.**\n",
        " * Calculate the linear combination of inputs using np.dot(X, weights) + bais.\n",
        " * Apply the sigmoid activation to compute probabilities.\n",
        " * Convert probabilities into binary predictions using a threshold (0.5).\n",
        "\n"
      ]
    },
    {
      "cell_type": "markdown",
      "metadata": {
        "id": "C05YaTWKN2ah"
      },
      "source": [
        "## **Assessment** 🔥"
      ]
    },
    {
      "cell_type": "markdown",
      "metadata": {
        "id": "HXwOt328OBZq"
      },
      "source": [
        "Implementing Weight and Bias Updates"
      ]
    },
    {
      "cell_type": "markdown",
      "metadata": {
        "id": "qS_Gp40aOExm"
      },
      "source": [
        "**Task Overview**\n",
        "* Now that we've built the perceptron up to the Prepare Perceptron step, it's time for you to complete two crucial functions:\n",
        "  1. **Updating Weights** using gradient descent.\n",
        "  2. **Updating Bias to** improve model performance.\n",
        "\n",
        "* Your task is to fill in the missing parts of the functions below."
      ]
    },
    {
      "cell_type": "markdown",
      "metadata": {
        "id": "blQ-gx4MOWOv"
      },
      "source": [
        "### **Task 1: Implement the update_weights Function**"
      ]
    },
    {
      "cell_type": "markdown",
      "metadata": {
        "id": "chE0fQgJOZIG"
      },
      "source": [
        "* Complete the function update_weights to update the weights based on the predicted and actual outputs.\n",
        "\n",
        "**Hint for update_weights:**\n",
        " * The update follows gradient descent:\n",
        " * Use np.dot() for matrix multiplication.\n",
        "![image.png](data:image/png;base64,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)"
      ]
    },
    {
      "cell_type": "code",
      "execution_count": null,
      "metadata": {
        "id": "miDattRdN2N-"
      },
      "outputs": [],
      "source": [
        "def update_weights(weights, X, y_pred, y_actual, lr):\n",
        "    \"\"\"\n",
        "    Updates the weights using gradient descent.\n",
        "\n",
        "    Parameters:\n",
        "    - weights: Current weight vector\n",
        "    - X: Input feature matrix\n",
        "    - y_pred: Predicted outputs\n",
        "    - y_actual: Actual target values\n",
        "    - lr: Learning rate\n",
        "\n",
        "    Returns:\n",
        "    - Updated weights\n",
        "    \"\"\"\n",
        "    # YOUR CODE HERE\n",
        "    error = y_pred - y_actual\n",
        "    gradient = np.dot(X.T, error) / len(X)\n",
        "    updated_weights = weights - lr * gradient\n",
        "\n",
        "    return updated_weights\n",
        "\n",
        "    #pass  # Remove this after implementing"
      ]
    },
    {
      "cell_type": "markdown",
      "metadata": {
        "id": "Ql-LuLj6PDX3"
      },
      "source": [
        "### **Task 2: Implement the update_bias Function**"
      ]
    },
    {
      "cell_type": "markdown",
      "metadata": {
        "id": "dAG9yg3iPGIX"
      },
      "source": [
        "* Now, implement update_bias to adjust the bias term"
      ]
    },
    {
      "cell_type": "markdown",
      "metadata": {
        "id": "GcZ1kD01PIAN"
      },
      "source": [
        "**Hint for update_bias:**\n",
        " * The bias update follows the rule:\n",
        " * np.sum() is helpful for summing up values.\n",
        "![image.png](data:image/png;base64,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)"
      ]
    },
    {
      "cell_type": "code",
      "execution_count": null,
      "metadata": {
        "id": "Kqz_H4T2PDSW"
      },
      "outputs": [],
      "source": [
        "def update_bias(bias, X, z, y, lr):\n",
        "    \"\"\"\n",
        "    Updates the bias term using gradient descent.\n",
        "\n",
        "    Parameters:\n",
        "    - bias: Current bias value\n",
        "    - X: Input feature matrix\n",
        "    - z: Linear combination of weights and inputs\n",
        "    - y: Actual target values\n",
        "    - lr: Learning rate\n",
        "\n",
        "    Returns:\n",
        "    - Updated bias\n",
        "    \"\"\"\n",
        "    # YOUR CODE HERE\n",
        "    error = z - y\n",
        "    gradient = np.sum(error) / len(X)\n",
        "    bias_new = bias - lr * gradient\n",
        "\n",
        "    return bias_new\n",
        "\n",
        "    #pass  # Remove this after implementing"
      ]
    },
    {
      "cell_type": "markdown",
      "metadata": {
        "id": "JjUeKMdvfiit"
      },
      "source": [
        "## Accuracy Calculation"
      ]
    },
    {
      "cell_type": "code",
      "execution_count": null,
      "metadata": {
        "id": "flHcqzGbfhJk"
      },
      "outputs": [],
      "source": [
        "def accuarcy(y_pred, y_actual):\n",
        "    # Calculate the accuracy as the ratio of correct predictions to total samples\n",
        "    return np.sum(y_pred == y_actual) / len(y_actual)"
      ]
    },
    {
      "cell_type": "markdown",
      "metadata": {
        "id": "JVeP4FaqflxW"
      },
      "source": [
        "* Measures the performance of the perceptron by comparing predicted labels **(y_pred)** with actual labels **(y_actual)**."
      ]
    },
    {
      "cell_type": "markdown",
      "metadata": {
        "id": "Kbnl2x-Yfuwy"
      },
      "source": [
        "## **General Overview of the Perceptron Workflow**"
      ]
    },
    {
      "cell_type": "markdown",
      "metadata": {
        "id": "IuqFUJmQfwKS"
      },
      "source": [
        "1. **Activation Function `(sigmoid)`**\n",
        " * Converts the linear prediction into probabilities.\n",
        "\n",
        "2. **Perceptron Function**\n",
        " * Performs the forward pass, applying weights, biases, and activation function to predict the output.\n",
        "\n",
        "3. **Weight Update**\n",
        " * Uses gradient descent to minimize the error in predictions by adjusting weights.\n",
        "\n",
        "4. **Bias Update**\n",
        " * Similar to weight update, adjusts the bias to reduce prediction errors.\n",
        "\n",
        "5. **Accuracy Calculation**\n",
        " * Evaluates how well the perceptron predicts by comparing predictions with actual values.\n",
        "\n",
        "\n",
        "\n",
        "\n"
      ]
    },
    {
      "cell_type": "markdown",
      "metadata": {
        "id": "cIhOUZavgVFX"
      },
      "source": [
        "# **Training and Evaluation**"
      ]
    },
    {
      "cell_type": "markdown",
      "metadata": {
        "id": "CNlEQy-ogXuZ"
      },
      "source": [
        "## Training the Perceptron"
      ]
    },
    {
      "cell_type": "code",
      "execution_count": null,
      "metadata": {
        "colab": {
          "base_uri": "https://localhost:8080/"
        },
        "id": "u0RDaZqYgZ6u",
        "outputId": "c9db3a9a-f289-4e6f-9c7c-55c38fa100e9"
      },
      "outputs": [
        {
          "data": {
            "text/plain": [
              "(571, 30)"
            ]
          },
          "execution_count": 25,
          "metadata": {},
          "output_type": "execute_result"
        }
      ],
      "source": [
        "# Get the shape of training data\n",
        "x_train.shape"
      ]
    },
    {
      "cell_type": "code",
      "execution_count": null,
      "metadata": {
        "id": "0Cj-_e-xga4j"
      },
      "outputs": [],
      "source": [
        "# Define the learning rate\n",
        "lr = 0.001"
      ]
    },
    {
      "cell_type": "markdown",
      "metadata": {
        "id": "fgoaK4XKgykL"
      },
      "source": [
        "* **lr**: A small learning rate to control the size of updates during training."
      ]
    },
    {
      "cell_type": "code",
      "execution_count": null,
      "metadata": {
        "id": "z8EKpWGrgbo2"
      },
      "outputs": [],
      "source": [
        "# Initialize weights as zeros (one weight per feature)\n",
        "weights = np.zeros(x_train.shape[1])  # 30 weights for 30 features"
      ]
    },
    {
      "cell_type": "markdown",
      "metadata": {
        "id": "6lWH0Z46grXf"
      },
      "source": [
        "* **weights**: A zero vector with a size equal to the number of features (30 in this dataset)."
      ]
    },
    {
      "cell_type": "code",
      "execution_count": null,
      "metadata": {
        "id": "yPzN0mpggcXa"
      },
      "outputs": [],
      "source": [
        "# Initialize the bias term as zero\n",
        "bais = 0"
      ]
    },
    {
      "cell_type": "markdown",
      "metadata": {
        "id": "3-vausBDgvnx"
      },
      "source": [
        "* **bais**: A scalar initialized to zero."
      ]
    },
    {
      "cell_type": "markdown",
      "metadata": {
        "id": "uATLTaTQg08w"
      },
      "source": [
        "**Training Loop**"
      ]
    },
    {
      "cell_type": "code",
      "execution_count": null,
      "metadata": {
        "id": "HP__u7mkgdjF"
      },
      "outputs": [],
      "source": [
        "# Train the perceptron over 1000 iterations (epochs)\n",
        "for i in range(1000):\n",
        "    # Make predictions using the current weights and bias\n",
        "    pred = perceptron(x_train, weights, bais)\n",
        "\n",
        "    # Update weights using gradient descent\n",
        "    weights = update_weights(weights, x_train, pred, y_train, lr)\n",
        "\n",
        "    # Update bias using gradient descent\n",
        "    bais = update_bais(bais, x_train, pred, y_train, lr)"
      ]
    },
    {
      "cell_type": "markdown",
      "metadata": {
        "id": "Rm638ZIag2fw"
      },
      "source": [
        "* **Iterates 1000 times (epochs) to adjust the weights and bias gradually.**\n",
        "  * **Steps**\n",
        "   1. Predictions (pred) are made using the current weights and bias.\n",
        "   2. Weight Update:\n",
        "     * Adjusts weights to minimize the error between predictions and actual values (y_train).\n",
        "   3. Bias Update:\n",
        "     * Adjusts the bias term similarly to reduce prediction error.\n",
        "\n",
        "\n",
        "   \n",
        "\n",
        "\n"
      ]
    },
    {
      "cell_type": "markdown",
      "metadata": {
        "id": "tJUHm8NEhPuW"
      },
      "source": [
        "**Outputs**"
      ]
    },
    {
      "cell_type": "code",
      "execution_count": null,
      "metadata": {
        "colab": {
          "base_uri": "https://localhost:8080/"
        },
        "id": "16iSQAf6geuo",
        "outputId": "873b08d4-c9d8-4945-f190-f1a9b101ea03"
      },
      "outputs": [
        {
          "data": {
            "text/plain": [
              "array([ 1.16611041e-04,  5.37812174e-06,  1.39057581e-04, -5.19232768e-05,\n",
              "       -4.81974648e-05,  3.22929388e-04, -2.24620327e-04, -1.69371490e-04,\n",
              "        4.91752009e-05, -7.00276435e-05, -2.28918126e-04,  5.12658066e-05,\n",
              "        1.93795570e-04, -1.92647159e-04, -9.01118178e-07, -7.27111746e-05,\n",
              "        2.17893962e-04, -2.21132521e-04,  6.35767956e-05,  1.51484439e-04,\n",
              "       -2.02799737e-04, -1.29683365e-04, -9.72740827e-05, -2.50264104e-04,\n",
              "       -1.16799346e-07, -8.08718687e-05, -6.68638945e-05,  2.79424374e-05,\n",
              "       -1.03429786e-04, -4.51181236e-05])"
            ]
          },
          "execution_count": 30,
          "metadata": {},
          "output_type": "execute_result"
        }
      ],
      "source": [
        "# Display the trained weights\n",
        "weights"
      ]
    },
    {
      "cell_type": "code",
      "execution_count": null,
      "metadata": {
        "colab": {
          "base_uri": "https://localhost:8080/"
        },
        "id": "_LECG8XufmZt",
        "outputId": "7193e15e-d5c2-4f5b-fda6-68415d7978e2"
      },
      "outputs": [
        {
          "data": {
            "text/plain": [
              "-0.00024518388791593636"
            ]
          },
          "execution_count": 31,
          "metadata": {},
          "output_type": "execute_result"
        }
      ],
      "source": [
        "# Display the trained bias\n",
        "bais"
      ]
    },
    {
      "cell_type": "markdown",
      "metadata": {
        "id": "KMW4qGIvhRlc"
      },
      "source": [
        "* Trained weights and bais represent the learned parameters of the perceptron after training.\n"
      ]
    },
    {
      "cell_type": "markdown",
      "metadata": {
        "id": "UP38Cl5ygih-"
      },
      "source": [
        "## Evaluation"
      ]
    },
    {
      "cell_type": "code",
      "execution_count": null,
      "metadata": {
        "colab": {
          "base_uri": "https://localhost:8080/"
        },
        "id": "Rx34v36tgjOB",
        "outputId": "f5b40154-bfc5-44c1-bc7e-b6f57f11bdf0"
      },
      "outputs": [
        {
          "name": "stdout",
          "output_type": "stream",
          "text": [
            "Accuracy on Testing Data:  0.965034965034965\n"
          ]
        }
      ],
      "source": [
        "# Evaluate the perceptron on testing data\n",
        "y_pred = perceptron(x_test, weights, bais)\n",
        "print(\"Accuracy on Testing Data: \", accuarcy(y_pred, y_test))"
      ]
    }
  ],
  "metadata": {
    "colab": {
      "collapsed_sections": [
        "Gz_PsUvlel-N",
        "VlPci8Qsew4o",
        "JjUeKMdvfiit",
        "Kbnl2x-Yfuwy",
        "cIhOUZavgVFX"
      ],
      "provenance": [],
      "toc_visible": true
    },
    "kernelspec": {
      "display_name": "Python 3",
      "name": "python3"
    },
    "language_info": {
      "name": "python"
    }
  },
  "nbformat": 4,
  "nbformat_minor": 0
}
